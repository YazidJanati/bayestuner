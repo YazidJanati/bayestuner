{
 "cells": [
  {
   "cell_type": "code",
   "execution_count": 1,
   "metadata": {},
   "outputs": [],
   "source": [
    "#from bayestuner.benchmark_functions import *\n",
    "import numpy as np\n",
    "from bayestuner.tuner import BayesTuner\n",
    "from bayestuner.bounds import Bound\n",
    "import math\n",
    "\n"
   ]
  },
  {
   "cell_type": "code",
   "execution_count": 2,
   "metadata": {},
   "outputs": [],
   "source": [
    "rastringin_ = lambda X : -(10*len(X) + sum([x**2 - 10*np.cos(2*math.pi*x) for x in X]))"
   ]
  },
  {
   "cell_type": "code",
   "execution_count": 3,
   "metadata": {},
   "outputs": [],
   "source": [
    "tuner1 = BayesTuner(objective = rastringin_,\n",
    "                    bounds = [Bound([-5.12,5.12],'continuous')],\n",
    "                    n_iter = 60,\n",
    "                    init_samples = 15)\n",
    "#result = tuner1.tune(print_score = True)"
   ]
  }
 ],
 "metadata": {
  "kernelspec": {
   "display_name": "Python 3",
   "language": "python",
   "name": "python3"
  },
  "language_info": {
   "codemirror_mode": {
    "name": "ipython",
    "version": 3
   },
   "file_extension": ".py",
   "mimetype": "text/x-python",
   "name": "python",
   "nbconvert_exporter": "python",
   "pygments_lexer": "ipython3",
   "version": "3.7.1"
  }
 },
 "nbformat": 4,
 "nbformat_minor": 2
}
